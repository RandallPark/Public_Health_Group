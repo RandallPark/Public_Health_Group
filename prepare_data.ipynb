{
 "cells": [
  {
   "cell_type": "markdown",
   "metadata": {},
   "source": [
    "### This notebook is to prepare data for analysis\n",
    "#### Group Project on 'Public_Health' (Focus: Substance abuse in young adults)\n",
    "#### Members: Jamuna, Eddie, Warren, Anna\n",
    "#### Start Date: 05/15/2019"
   ]
  },
  {
   "cell_type": "code",
   "execution_count": 59,
   "metadata": {},
   "outputs": [],
   "source": [
    "#Dependencies\n",
    "import csv\n",
    "import pandas as pd\n",
    "import numpy as np"
   ]
  },
  {
   "cell_type": "code",
   "execution_count": 60,
   "metadata": {},
   "outputs": [
    {
     "name": "stdout",
     "output_type": "stream",
     "text": [
      "Total number of records in admissions.csv is : 1048575\n",
      "Total number of records in discharges.csv is : 1048575\n"
     ]
    }
   ],
   "source": [
    "# Explore input data from the csvs\n",
    "adm_csvdata = pd.read_csv(\"admissions.csv\")\n",
    "dis_csvdata = pd.read_csv(\"discharges.csv\")\n",
    "print(f\"Total number of records in admissions.csv is : %d\" %len(adm_csvdata))\n",
    "print(f\"Total number of records in discharges.csv is : %d\" %len(dis_csvdata))\n",
    "#csvdata.columns"
   ]
  },
  {
   "cell_type": "code",
   "execution_count": 61,
   "metadata": {},
   "outputs": [
    {
     "name": "stdout",
     "output_type": "stream",
     "text": [
      "Total number of records filtered from admissions.csv is : 160112\n",
      "Total number of records filtered from discharges.csv is : 164370\n"
     ]
    }
   ],
   "source": [
    "# Apply filters to select records of interest for analysis (rows filtered based on Primary substance - SUB1)\n",
    "adm_data = adm_csvdata[adm_csvdata['SUB1'].isin([1,2,3,4,5,7,13,19]) & adm_csvdata['AGE'].isin([2,3,4]) ]\n",
    "dis_data = dis_csvdata[dis_csvdata['SUB1'].isin([1,2,3,4,5,7,13,19]) & dis_csvdata['AGE'].isin([2,3,4])]\n",
    "#adm_csvdata[adm_csvdata['SUB1'].isin[1,2,3,4,5,7,13,19]]\n",
    "print(f\"Total number of records filtered from admissions.csv is : %d\" %len(adm_data))\n",
    "print(f\"Total number of records filtered from discharges.csv is : %d\" %len(dis_data))"
   ]
  },
  {
   "cell_type": "code",
   "execution_count": 62,
   "metadata": {},
   "outputs": [
    {
     "data": {
      "text/plain": [
       "Index(['CASEID', 'STFIPS (Census state FIPS code)', 'AGE', 'SERVICES', 'SUB1',\n",
       "       'SUB2', 'SUB3', 'DETCRIM', 'NOPRIOR', 'PSOURCE', 'ARRESTS', 'RACE',\n",
       "       'ETHNIC', 'SEX', 'EDUC', 'EMPLOY', 'METHUSE', 'PSYPROB', 'PREG', 'VET',\n",
       "       'LIVARAG', 'PRIMINC', 'HLTHINS', 'PRIMPAY', 'DETNLF', 'MARSTAT',\n",
       "       'DAYWAIT', 'ROUTE1', 'FREQ1', 'FRSTUSE1', 'ROUTE2', 'FREQ2', 'FRSTUSE2',\n",
       "       'ROUTE3', 'FREQ3', 'FRSTUSE3', 'FREQ_ATND_SELF_HELP', 'DSMCRIT',\n",
       "       'ALCFLG', 'COKEFLG', 'MARFLG', 'HERFLG', 'METHFLG', 'OPSYNFLG',\n",
       "       'PCPFLG', 'HALLFLG', 'MTHAMFLG', 'AMPHFLG', 'STIMFLG', 'BENZFLG',\n",
       "       'TRNQFLG', 'BARBFLG', 'SEDHPFLG', 'INHFLG', 'OTCFLG', 'OTHERFLG',\n",
       "       'DIVISION', 'REGION', 'ALCDRUG', 'YEAR', 'CBSA10', 'IDU'],\n",
       "      dtype='object')"
      ]
     },
     "execution_count": 62,
     "metadata": {},
     "output_type": "execute_result"
    }
   ],
   "source": [
    "# Apply further filters on columns of interest based on the lookup document for features coded in the csvs\n",
    "# List the columns from admissions and discharge datasets\n",
    "adm_data.columns"
   ]
  },
  {
   "cell_type": "code",
   "execution_count": 63,
   "metadata": {},
   "outputs": [
    {
     "data": {
      "text/plain": [
       "Index(['DISYR', 'CASEID', 'STFIPS', 'AGE', 'SERVICES', 'SUB1', 'SUB2', 'SUB3',\n",
       "       'DETCRIM', 'NOPRIOR', 'PSOURCE', 'ARRESTS', 'RACE', 'ETHNIC', 'EDUC',\n",
       "       'EMPLOY', 'METHUSE', 'PSYPROB', 'PREG', 'VET', 'LIVARAG', 'PRIMINC',\n",
       "       'HLTHINS', 'PRIMPAY', 'DETNLF', 'MARSTAT', 'DAYWAIT', 'ROUTE1', 'FREQ1',\n",
       "       'FRSTUSE1', 'ROUTE2', 'FREQ2', 'FRSTUSE2', 'ROUTE3', 'FREQ3',\n",
       "       'FRSTUSE3', 'FREQ_ATND_SELF_HELP', 'DSMCRIT', 'SERVICES_D', 'REASON',\n",
       "       'SUB1_D', 'SUB2_D', 'SUB3_D', 'EMPLOY_D', 'LIVARAG_D', 'DETNLF_D',\n",
       "       'FREQ1_D', 'FREQ2_D', 'FREQ3_D', 'FREQ_ATND_SELF_HELP_D', 'LOS',\n",
       "       'ARRESTS_D', 'ALCFLG', 'COKEFLG', 'MARFLG', 'HERFLG', 'METHFLG',\n",
       "       'OPSYNFLG', 'PCPFLG', 'HALLFLG', 'MTHAMFLG', 'AMPHFLG', 'STIMFLG',\n",
       "       'BENZFLG', 'TRNQFLG', 'BARBFLG', 'SEDHPFLG', 'INHFLG', 'OTCFLG',\n",
       "       'OTHERFLG', 'NUMSUBS', 'IDU', 'DIVISION', 'REGION', 'ALCDRUG', 'YEAR',\n",
       "       'CBSA', 'GENDER'],\n",
       "      dtype='object')"
      ]
     },
     "execution_count": 63,
     "metadata": {},
     "output_type": "execute_result"
    }
   ],
   "source": [
    "dis_data.columns"
   ]
  },
  {
   "cell_type": "code",
   "execution_count": 64,
   "metadata": {},
   "outputs": [
    {
     "data": {
      "text/plain": [
       "(160112, 41)"
      ]
     },
     "execution_count": 64,
     "metadata": {},
     "output_type": "execute_result"
    }
   ],
   "source": [
    "# Choose features of interest for further analysis for this project\n",
    "adm_study_data = adm_data[['CASEID', 'STFIPS (Census state FIPS code)','AGE', 'SERVICES', 'SUB1', 'SUB2', \n",
    "       'DETCRIM', 'NOPRIOR', 'PSOURCE', 'SEX', 'EDUC', 'EMPLOY', 'METHUSE', 'PSYPROB',\n",
    "       'LIVARAG', 'PRIMINC', 'HLTHINS', 'PRIMPAY', 'DETNLF', 'MARSTAT','DAYWAIT', 'ROUTE1', \n",
    "       'FREQ1', 'FRSTUSE1', 'ROUTE2', 'FREQ2', 'FRSTUSE2','FREQ_ATND_SELF_HELP', 'DSMCRIT',\n",
    "       'ALCFLG', 'COKEFLG', 'MARFLG', 'HERFLG', 'OPSYNFLG','HALLFLG', 'BENZFLG','OTHERFLG',\n",
    "       'REGION', 'ALCDRUG', 'YEAR', 'IDU']]\n",
    "# Get the dimensions of the dataset\n",
    "adm_study_data.shape"
   ]
  },
  {
   "cell_type": "code",
   "execution_count": 65,
   "metadata": {},
   "outputs": [
    {
     "data": {
      "text/plain": [
       "(164370, 50)"
      ]
     },
     "execution_count": 65,
     "metadata": {},
     "output_type": "execute_result"
    }
   ],
   "source": [
    "dis_study_data = dis_data[['CASEID', 'STFIPS', 'AGE', 'SERVICES_D','SUB1_D', 'SUB2_D', \n",
    "       'DETCRIM', 'NOPRIOR', 'PSOURCE','GENDER','EDUC','EMPLOY', 'METHUSE', 'PSYPROB',\n",
    "       'LIVARAG', 'PRIMINC', 'HLTHINS', 'PRIMPAY', 'DETNLF', 'MARSTAT', 'DAYWAIT', 'ROUTE1', \n",
    "       'FREQ1', 'FRSTUSE1', 'ROUTE2', 'FREQ2', 'FRSTUSE2', 'FREQ_ATND_SELF_HELP', 'DSMCRIT', \n",
    "       'REASON', 'EMPLOY_D', 'LIVARAG_D', 'DETNLF_D', 'FREQ1_D', 'FREQ2_D', \n",
    "       'FREQ_ATND_SELF_HELP_D', 'LOS','ALCFLG', 'COKEFLG', 'MARFLG', 'HERFLG', 'OPSYNFLG', \n",
    "       'HALLFLG', 'BENZFLG','OTHERFLG', 'NUMSUBS', 'IDU', 'REGION', 'ALCDRUG', 'DISYR']]\n",
    "# Get the dimensions of the dataset\n",
    "dis_study_data.shape"
   ]
  },
  {
   "cell_type": "code",
   "execution_count": 66,
   "metadata": {},
   "outputs": [],
   "source": [
    "# Rename some of the columns to merge dataframes without conflicts\n",
    "#df1.merge(df2.rename(columns={'b':'a'}),how='outer')\n",
    "adm_study_data = adm_study_data.rename(columns={'STFIPS (Census state FIPS code)':'STFIPS',\n",
    "                                                'SEX': 'GENDER'})"
   ]
  },
  {
   "cell_type": "code",
   "execution_count": 94,
   "metadata": {},
   "outputs": [
    {
     "data": {
      "text/plain": [
       "(15649, 90)"
      ]
     },
     "execution_count": 94,
     "metadata": {},
     "output_type": "execute_result"
    }
   ],
   "source": [
    "# Merge the two datasets based on 'CASEID'\n",
    "merged_sub_abuse_data = pd.merge(adm_study_data, dis_study_data, on='CASEID', how='inner', suffixes=('_adm', '_dis') )\n",
    "merged_sub_abuse_data.shape"
   ]
  },
  {
   "cell_type": "code",
   "execution_count": 93,
   "metadata": {},
   "outputs": [
    {
     "data": {
      "text/plain": [
       "(15649, 90)"
      ]
     },
     "execution_count": 93,
     "metadata": {},
     "output_type": "execute_result"
    }
   ],
   "source": [
    "merged_sub_abuse_data.dropna().shape"
   ]
  },
  {
   "cell_type": "code",
   "execution_count": 68,
   "metadata": {},
   "outputs": [
    {
     "data": {
      "text/plain": [
       "Index(['CASEID', 'STFIPS', 'AGE', 'SERVICES', 'SUB1', 'SUB2', 'DETCRIM',\n",
       "       'NOPRIOR', 'PSOURCE', 'GENDER', 'EDUC', 'EMPLOY', 'METHUSE', 'PSYPROB',\n",
       "       'LIVARAG', 'PRIMINC', 'HLTHINS', 'PRIMPAY', 'DETNLF', 'MARSTAT',\n",
       "       'DAYWAIT', 'ROUTE1', 'FREQ1', 'FRSTUSE1', 'ROUTE2', 'FREQ2', 'FRSTUSE2',\n",
       "       'FREQ_ATND_SELF_HELP', 'DSMCRIT', 'ALCFLG', 'COKEFLG', 'MARFLG',\n",
       "       'HERFLG', 'OPSYNFLG', 'HALLFLG', 'BENZFLG', 'OTHERFLG', 'REGION',\n",
       "       'ALCDRUG', 'YEAR', 'IDU', 'SERVICES_D', 'SUB1_D', 'SUB2_D', 'REASON',\n",
       "       'EMPLOY_D', 'LIVARAG_D', 'DETNLF_D', 'FREQ1_D', 'FREQ2_D',\n",
       "       'FREQ_ATND_SELF_HELP_D', 'LOS', 'NUMSUBS', 'DISYR'],\n",
       "      dtype='object')"
      ]
     },
     "execution_count": 68,
     "metadata": {},
     "output_type": "execute_result"
    }
   ],
   "source": [
    "merged_sub_abuse_data.columns"
   ]
  },
  {
   "cell_type": "code",
   "execution_count": null,
   "metadata": {},
   "outputs": [],
   "source": []
  }
 ],
 "metadata": {
  "kernelspec": {
   "display_name": "Python 3",
   "language": "python",
   "name": "python3"
  },
  "language_info": {
   "codemirror_mode": {
    "name": "ipython",
    "version": 3
   },
   "file_extension": ".py",
   "mimetype": "text/x-python",
   "name": "python",
   "nbconvert_exporter": "python",
   "pygments_lexer": "ipython3",
   "version": "3.7.2"
  }
 },
 "nbformat": 4,
 "nbformat_minor": 2
}
